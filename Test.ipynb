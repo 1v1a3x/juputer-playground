{
 "cells": [
  {
   "cell_type": "markdown",
   "metadata": {},
   "source": [
    "### Perform imports and initial variables/utility functions load"
   ]
  },
  {
   "cell_type": "code",
   "execution_count": 9,
   "metadata": {},
   "outputs": [
    {
     "data": {
      "application/vnd.jupyter.widget-view+json": {
       "model_id": "740d224623294b98a701922698fe69d7",
       "version_major": 2,
       "version_minor": 0
      },
      "text/plain": [
       "interactive(children=(Password(description='Secret'), IntSlider(value=1, description='Days interval', max=30, …"
      ]
     },
     "metadata": {},
     "output_type": "display_data"
    }
   ],
   "source": [
    "#HIDDEN\n",
    "from ipywidgets import interact, interactive, fixed, interact_manual\n",
    "import ipywidgets as widgets\n",
    "import pandas\n",
    "import urllib3\n",
    "import os\n",
    "\n",
    "secret_global = \"\"\n",
    "interval_in_days_global = 1\n",
    "url_encoded_aqa_history_prefix=\"U2FsdGVkX19ob/w0QNI2RZkBnNEMcC9EEKMthh2OlGkj5/uvA5D8gUiWsM7NbXVR7s42yRtMRmAbfM8kpdJ/sHf6fGBESJ2IeMDw743pP30=\"\n",
    "url_encoded_coverage_matrix=\"U2FsdGVkX1+l7XBjSy5HVn1E4GEVynVlnB3j6ZEWhx5xvR3p2vAJNb/boibFtS/cTWdlnx78Z8DO+qCRYCpHyg==\"\n",
    "\n",
    "def exec_cmd(*args):\n",
    "    res = os.popen(*args).read()\n",
    "    return res\n",
    "\n",
    "def fetch_data_from_url(url):\n",
    "    http = urllib3.PoolManager()\n",
    "    response = http.urlopen('GET',url)\n",
    "#     res_csv = pandas.read_json(response.data).to_csv()\n",
    "    print(response.data)\n",
    "\n",
    "@interact(secret=widgets.Password(description='Secret'),days=widgets.IntSlider(min=1, max=30, step=1, value=1, description='Days interval'))\n",
    "def set_variables(secret,days):\n",
    "    global secret_global\n",
    "    global interval_in_days_global\n",
    "    secret_global = secret\n",
    "    interval_in_days_global = days"
   ]
  },
  {
   "cell_type": "markdown",
   "metadata": {},
   "source": [
    "#### Util block to encode decode text with 'Secret'"
   ]
  },
  {
   "cell_type": "code",
   "execution_count": 10,
   "metadata": {},
   "outputs": [
    {
     "data": {
      "application/vnd.jupyter.widget-view+json": {
       "model_id": "d17fcbaf65314195a1d46be533f6f67b",
       "version_major": 2,
       "version_minor": 0
      },
      "text/plain": [
       "interactive(children=(Text(value='', description='Input String:', placeholder='Set the secret before operation…"
      ]
     },
     "metadata": {},
     "output_type": "display_data"
    }
   ],
   "source": [
    "#HIDDEN\n",
    "@interact(input_string = widgets.Text(placeholder='Set the secret before operation',description='Input String:'), operation=widgets.Dropdown(options=['Encode', 'Decode'],value='Encode',description='Operation:',disabled=False,))\n",
    "def encode_decode_string(input_string, operation):\n",
    "    operation_cmd = { \n",
    "        \"Encode\" : \"echo {} | openssl enc -e -aes-256-cbc -a -salt -k {}\".format(input_string,secret_global),\n",
    "        \"Decode\" : \"echo {} | openssl aes-256-cbc -a -d -salt -k {}\".format(input_string,secret_global)\n",
    "    }\n",
    "    return exec_cmd(operation_cmd.get(operation))"
   ]
  },
  {
   "cell_type": "markdown",
   "metadata": {},
   "source": [
    "## Fetch data"
   ]
  },
  {
   "cell_type": "markdown",
   "metadata": {},
   "source": [
    "Fetch AQA history"
   ]
  },
  {
   "cell_type": "code",
   "execution_count": 11,
   "metadata": {},
   "outputs": [
    {
     "data": {
      "application/vnd.jupyter.widget-view+json": {
       "model_id": "3af2a17efe29431d8924dcb507b470fd",
       "version_major": 2,
       "version_minor": 0
      },
      "text/plain": [
       "interactive(children=(Button(description='Run Interact', style=ButtonStyle()), Output()), _dom_classes=('widge…"
      ]
     },
     "metadata": {},
     "output_type": "display_data"
    }
   ],
   "source": [
    "#HIDDEN\n",
    "@interact_manual()\n",
    "def fetch_aqa_history_data():\n",
    "    fetch_data_from_url(str(encode_decode_string(url_encoded_aqa_history_prefix, \"Decode\")) + str(interval_in_days_global))"
   ]
  },
  {
   "cell_type": "markdown",
   "metadata": {},
   "source": [
    "Fetch AQA history"
   ]
  },
  {
   "cell_type": "code",
   "execution_count": 12,
   "metadata": {},
   "outputs": [
    {
     "data": {
      "application/vnd.jupyter.widget-view+json": {
       "model_id": "e0e538275a1148a69246ff935d78d773",
       "version_major": 2,
       "version_minor": 0
      },
      "text/plain": [
       "interactive(children=(Button(description='Run Interact', style=ButtonStyle()), Output()), _dom_classes=('widge…"
      ]
     },
     "metadata": {},
     "output_type": "display_data"
    }
   ],
   "source": [
    "#HIDDEN\n",
    "@interact_manual()\n",
    "def fetch_api_apidoc_data():\n",
    "    fetch_data_from_url(str(encode_decode_string(url_encoded_coverage_matrix, \"Decode\")))"
   ]
  }
 ],
 "metadata": {
  "colab": {
   "collapsed_sections": [],
   "name": "Test.ipynb",
   "provenance": [],
   "toc_visible": true
  },
  "kernelspec": {
   "display_name": "Python 3",
   "language": "python",
   "name": "python3"
  },
  "language_info": {
   "codemirror_mode": {
    "name": "ipython",
    "version": 3
   },
   "file_extension": ".py",
   "mimetype": "text/x-python",
   "name": "python",
   "nbconvert_exporter": "python",
   "pygments_lexer": "ipython3",
   "version": "3.7.6"
  }
 },
 "nbformat": 4,
 "nbformat_minor": 4
}
